{
 "cells": [
  {
   "cell_type": "markdown",
   "id": "4c4a0722",
   "metadata": {},
   "source": [
    "# 1.1 Write a Python Program to implement now you eyour own myreduce() function which works exactly like Python's built-in function reduce()\n"
   ]
  },
  {
   "cell_type": "code",
   "execution_count": 3,
   "id": "8472ec23",
   "metadata": {},
   "outputs": [],
   "source": [
    "def myreduce(n):\n",
    "    product=1\n",
    "    for i in n:\n",
    "        product=product*i\n",
    "    return product\n",
    "  "
   ]
  },
  {
   "cell_type": "code",
   "execution_count": 4,
   "id": "061fbaf0",
   "metadata": {},
   "outputs": [
    {
     "data": {
      "text/plain": [
       "40320"
      ]
     },
     "execution_count": 4,
     "metadata": {},
     "output_type": "execute_result"
    }
   ],
   "source": [
    "num=[1,2,3,4,5,6,7,8]\n",
    "myreduce(num)"
   ]
  },
  {
   "cell_type": "code",
   "execution_count": 6,
   "id": "2dddc1d4",
   "metadata": {},
   "outputs": [
    {
     "name": "stdout",
     "output_type": "stream",
     "text": [
      "40320\n"
     ]
    }
   ],
   "source": [
    "## BY USING REDUCE FUNCTION WE CAN DO SAME THING\n",
    "from functools import reduce\n",
    "num=[1,2,3,4,5,6,7,8]\n",
    "lst=reduce(lambda n,i:n*i,num)\n",
    "print(lst)"
   ]
  },
  {
   "cell_type": "markdown",
   "id": "f8291782",
   "metadata": {},
   "source": [
    "\n",
    "# 1.2 Write a Python program to implement your own myfilter() function which works exactly ike Python's built-in function filter()"
   ]
  },
  {
   "cell_type": "code",
   "execution_count": 19,
   "id": "39fa966e",
   "metadata": {},
   "outputs": [],
   "source": [
    "def myfilter(n):\n",
    "    for i in n:\n",
    "        if i%2==0:\n",
    "            print(i)\n",
    "            \n"
   ]
  },
  {
   "cell_type": "code",
   "execution_count": 21,
   "id": "0e345e56",
   "metadata": {},
   "outputs": [
    {
     "name": "stdout",
     "output_type": "stream",
     "text": [
      "2\n",
      "4\n",
      "6\n",
      "8\n",
      "2\n",
      "10\n"
     ]
    }
   ],
   "source": [
    "num=[2,3,4,5,6,7,8,2,10]\n",
    "myfilter(num)"
   ]
  },
  {
   "cell_type": "code",
   "execution_count": 24,
   "id": "dd27f4f0",
   "metadata": {},
   "outputs": [
    {
     "name": "stdout",
     "output_type": "stream",
     "text": [
      "[2, 4, 6, 8, 2, 10]\n"
     ]
    }
   ],
   "source": [
    "##THIS CAN BE DONE USING FILTER FUNCTION AS\n",
    "num=[2,3,4,5,6,7,8,2,10]\n",
    "even=list(filter(lambda n:n%2==0,num))\n",
    "print(even)"
   ]
  },
  {
   "cell_type": "markdown",
   "id": "3bebb13e",
   "metadata": {},
   "source": [
    "# 2. Implement List comprehensions to produce the following lists. "
   ]
  },
  {
   "cell_type": "code",
   "execution_count": 25,
   "id": "6e80dd3c",
   "metadata": {},
   "outputs": [
    {
     "name": "stdout",
     "output_type": "stream",
     "text": [
      "['x', 'xx', 'xxx', 'xxxx', 'y', 'yy', 'yyy', 'yyyy', 'z', 'zz', 'zzz', 'zzzz']\n"
     ]
    }
   ],
   "source": [
    "###['x', 'xx', 'xxx', 'xxxx', 'y', 'yy', 'yyy', 'yyyy', 'z', 'zz', 'zzz', 'zzzz'] \n",
    "letters = list('xyz')\n",
    "pattern = []\n",
    "[pattern.append(letters[i]*j) for i in range(len(letters)) for j in range(1,5)]\n",
    "print(pattern)"
   ]
  },
  {
   "cell_type": "code",
   "execution_count": 26,
   "id": "4f7b9204",
   "metadata": {},
   "outputs": [
    {
     "name": "stdout",
     "output_type": "stream",
     "text": [
      "['x', 'y', 'z', 'xx', 'yy', 'zz', 'xxx', 'yyy', 'zzz', 'xxxx', 'yyyy', 'zzzz']\n"
     ]
    }
   ],
   "source": [
    "##['x', 'y', 'z', 'xx', 'yy', 'zz', 'xxx', 'yyy', 'zzz', 'xxxx', 'yyyy', 'zzzz'] \n",
    "input_list = ['x','y','z']\n",
    "result = [ item*num for num in range(1,5) for item in input_list  ]\n",
    "print(str(result))"
   ]
  },
  {
   "cell_type": "code",
   "execution_count": 27,
   "id": "12e6e657",
   "metadata": {},
   "outputs": [
    {
     "name": "stdout",
     "output_type": "stream",
     "text": [
      "[[2], [3], [4], [3], [4], [5], [4], [5], [6]]\n"
     ]
    }
   ],
   "source": [
    "##[2], [3], [4], [3], [4], [5], [4], [5], [6]] \n",
    "lst=[2,3,4]\n",
    "num=[[n+i] for n in lst for i in range(0,3)]\n",
    "print(str(num))"
   ]
  },
  {
   "cell_type": "code",
   "execution_count": 28,
   "id": "71fe7866",
   "metadata": {},
   "outputs": [
    {
     "name": "stdout",
     "output_type": "stream",
     "text": [
      "[[2, 3, 4], [3, 4, 5], [4, 5, 6], [5, 6, 7]]\n"
     ]
    }
   ],
   "source": [
    "##[[2, 3, 4, 5], [3, 4, 5, 6], [4, 5, 6, 7], [5, 6, 7, 8]]\n",
    "l1=[2,3,4,5]\n",
    "num1=[[n+i for n in lst] for i in range(0,4)]\n",
    "print(num1)\n"
   ]
  },
  {
   "cell_type": "code",
   "execution_count": null,
   "id": "7302c68e",
   "metadata": {},
   "outputs": [],
   "source": [
    "##[(1, 1), (2, 1), (3, 1), (1, 2), (2, 2), (3, 2), (1, 3), (2, 3), (3, 3)]\n",
    "input_list=[1,2,3]\n",
    "result = [ (b,a) for a in input_list for b in input_list]\n",
    "print(str(result))"
   ]
  }
 ],
 "metadata": {
  "kernelspec": {
   "display_name": "Python 3",
   "language": "python",
   "name": "python3"
  },
  "language_info": {
   "codemirror_mode": {
    "name": "ipython",
    "version": 3
   },
   "file_extension": ".py",
   "mimetype": "text/x-python",
   "name": "python",
   "nbconvert_exporter": "python",
   "pygments_lexer": "ipython3",
   "version": "3.8.8"
  }
 },
 "nbformat": 4,
 "nbformat_minor": 5
}
